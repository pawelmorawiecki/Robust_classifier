{
 "cells": [
  {
   "cell_type": "code",
   "execution_count": null,
   "metadata": {},
   "outputs": [],
   "source": [
    "import tensorflow as tf\n",
    "import numpy as np\n",
    "import pylab as plt\n",
    "from regular_training.classifier_utils import load_from_directory\n",
    "from nn_robust_attacks.l2_attack import CarliniL2\n",
    "\n",
    "from keras.models import Sequential, Model\n",
    "from keras.layers.core import Flatten, Dense\n",
    "from keras.layers import Input\n",
    "from keras.layers.convolutional import Conv2D, MaxPooling2D, ZeroPadding2D\n",
    "%matplotlib inline"
   ]
  },
  {
   "cell_type": "code",
   "execution_count": null,
   "metadata": {
    "collapsed": true
   },
   "outputs": [],
   "source": [
    "IMG_SIZE = 48\n",
    "NUM_CLASSES = 10"
   ]
  },
  {
   "cell_type": "markdown",
   "metadata": {},
   "source": [
    "Model definition without Softmax layer (requirement by Carlini-Wagner attack):"
   ]
  },
  {
   "cell_type": "code",
   "execution_count": null,
   "metadata": {
    "collapsed": true
   },
   "outputs": [],
   "source": [
    "class traffic_signs_classifier:\n",
    "    def __init__(self, weights, session=None):\n",
    "        self.num_channels = 3\n",
    "        self.image_size = IMG_SIZE\n",
    "        self.num_labels = NUM_CLASSES\n",
    "        \n",
    "        model = Sequential()\n",
    "\n",
    "        model.add(Conv2D(32, (3, 3), padding='same', \n",
    "                            input_shape=(48, 48, 3),\n",
    "                            activation='relu'))\n",
    "        model.add(Conv2D(32, (3, 3), activation='relu'))\n",
    "        model.add(MaxPooling2D(pool_size=(2, 2)))\n",
    "        model.add(Conv2D(64, (3, 3), padding='same',\n",
    "                            activation='relu'))\n",
    "        model.add(Conv2D(64, (3, 3), activation='relu'))\n",
    "        model.add(MaxPooling2D(pool_size=(2, 2)))\n",
    "\n",
    "        model.add(Conv2D(128, (3, 3), padding='same', \n",
    "                            activation='relu'))\n",
    "        model.add(Conv2D(128, (3, 3), activation='relu'))\n",
    "        model.add(MaxPooling2D(pool_size=(2, 2)))\n",
    "        model.add(Flatten())\n",
    "        model.add(Dense(512, activation='relu'))\n",
    "        model.add(Dense(NUM_CLASSES))\n",
    "\n",
    "        model.load_weights(weights)\n",
    "        self.model = model\n",
    "        \n",
    "    def predict(self, data):\n",
    "        return self.model(data)"
   ]
  },
  {
   "cell_type": "code",
   "execution_count": null,
   "metadata": {
    "scrolled": false
   },
   "outputs": [],
   "source": [
    "images,labels = load_from_directory(\"./examples\", IMG_SIZE, NUM_CLASSES)"
   ]
  },
  {
   "cell_type": "code",
   "execution_count": null,
   "metadata": {},
   "outputs": [],
   "source": [
    "with tf.Session() as sess:\n",
    "    \n",
    "    model = traffic_signs_classifier(\"./regular_training/regular_training.h5\",sess)\n",
    "    images,labels = load_from_directory(\"./examples\", IMG_SIZE, NUM_CLASSES)\n",
    "    \n",
    "    # setting target labels to the label #9\n",
    "    target_labels = np.zeros((len(labels), 10), dtype=np.int)\n",
    "    for i in range(len(target_labels)): target_labels[i][9] = 1\n",
    "    \n",
    "    attack = CarliniL2(sess, model, confidence = 20)\n",
    "    adversarial_examples = attack.attack(images-0.5,target_labels)\n",
    "    \n",
    "    # saving adversarial images to files\n",
    "    for i in range(len(adversarial_examples)):\n",
    "        path = \"./adversarial_examples/\" + \"adv_image_\" + str(i) + \".png\"\n",
    "        plt.imsave(path,adversarial_examples[i]+0.5)"
   ]
  }
 ],
 "metadata": {
  "kernelspec": {
   "display_name": "Python 2",
   "language": "python",
   "name": "python2"
  },
  "language_info": {
   "codemirror_mode": {
    "name": "ipython",
    "version": 2
   },
   "file_extension": ".py",
   "mimetype": "text/x-python",
   "name": "python",
   "nbconvert_exporter": "python",
   "pygments_lexer": "ipython2",
   "version": "2.7.10"
  }
 },
 "nbformat": 4,
 "nbformat_minor": 2
}
